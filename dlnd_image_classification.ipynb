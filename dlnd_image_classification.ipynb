{
 "cells": [
  {
   "cell_type": "markdown",
   "metadata": {
    "collapsed": true,
    "deletable": true,
    "editable": true
   },
   "source": [
    "# Image Classification\n",
    "In this project, you'll classify images from the [CIFAR-10 dataset](https://www.cs.toronto.edu/~kriz/cifar.html).  The dataset consists of airplanes, dogs, cats, and other objects. You'll preprocess the images, then train a convolutional neural network on all the samples. The images need to be normalized and the labels need to be one-hot encoded.  You'll get to apply what you learned and build a convolutional, max pooling, dropout, and fully connected layers.  At the end, you'll get to see your neural network's predictions on the sample images.\n",
    "## Get the Data\n",
    "Run the following cell to download the [CIFAR-10 dataset for python](https://www.cs.toronto.edu/~kriz/cifar-10-python.tar.gz)."
   ]
  },
  {
   "cell_type": "code",
   "execution_count": 1,
   "metadata": {
    "collapsed": false,
    "deletable": true,
    "editable": true
   },
   "outputs": [
    {
     "name": "stdout",
     "output_type": "stream",
     "text": [
      "All files found!\n"
     ]
    }
   ],
   "source": [
    "\"\"\"\n",
    "DON'T MODIFY ANYTHING IN THIS CELL THAT IS BELOW THIS LINE\n",
    "\"\"\"\n",
    "from urllib.request import urlretrieve\n",
    "from os.path import isfile, isdir\n",
    "from tqdm import tqdm\n",
    "import problem_unittests as tests\n",
    "import tarfile\n",
    "\n",
    "cifar10_dataset_folder_path = 'cifar-10-batches-py'\n",
    "\n",
    "# Use Floyd's cifar-10 dataset if present\n",
    "floyd_cifar10_location = '/cifar/cifar-10-python.tar.gz'\n",
    "if isfile(floyd_cifar10_location):\n",
    "    tar_gz_path = floyd_cifar10_location\n",
    "else:\n",
    "    tar_gz_path = 'cifar-10-python.tar.gz'\n",
    "\n",
    "class DLProgress(tqdm):\n",
    "    last_block = 0\n",
    "\n",
    "    def hook(self, block_num=1, block_size=1, total_size=None):\n",
    "        self.total = total_size\n",
    "        self.update((block_num - self.last_block) * block_size)\n",
    "        self.last_block = block_num\n",
    "\n",
    "if not isfile(tar_gz_path):\n",
    "    with DLProgress(unit='B', unit_scale=True, miniters=1, desc='CIFAR-10 Dataset') as pbar:\n",
    "        urlretrieve(\n",
    "            'https://www.cs.toronto.edu/~kriz/cifar-10-python.tar.gz',\n",
    "            tar_gz_path,\n",
    "            pbar.hook)\n",
    "\n",
    "if not isdir(cifar10_dataset_folder_path):\n",
    "    with tarfile.open(tar_gz_path) as tar:\n",
    "        tar.extractall()\n",
    "        tar.close()\n",
    "\n",
    "\n",
    "tests.test_folder_path(cifar10_dataset_folder_path)"
   ]
  },
  {
   "cell_type": "markdown",
   "metadata": {
    "deletable": true,
    "editable": true
   },
   "source": [
    "## Explore the Data\n",
    "The dataset is broken into batches to prevent your machine from running out of memory.  The CIFAR-10 dataset consists of 5 batches, named `data_batch_1`, `data_batch_2`, etc.. Each batch contains the labels and images that are one of the following:\n",
    "* airplane\n",
    "* automobile\n",
    "* bird\n",
    "* cat\n",
    "* deer\n",
    "* dog\n",
    "* frog\n",
    "* horse\n",
    "* ship\n",
    "* truck\n",
    "\n",
    "Understanding a dataset is part of making predictions on the data.  Play around with the code cell below by changing the `batch_id` and `sample_id`. The `batch_id` is the id for a batch (1-5). The `sample_id` is the id for a image and label pair in the batch.\n",
    "\n",
    "Ask yourself \"What are all possible labels?\", \"What is the range of values for the image data?\", \"Are the labels in order or random?\".  Answers to questions like these will help you preprocess the data and end up with better predictions."
   ]
  },
  {
   "cell_type": "code",
   "execution_count": 2,
   "metadata": {
    "collapsed": false,
    "deletable": true,
    "editable": true
   },
   "outputs": [
    {
     "name": "stdout",
     "output_type": "stream",
     "text": [
      "\n",
      "Stats of batch 1:\n",
      "Samples: 10000\n",
      "Label Counts: {0: 1005, 1: 974, 2: 1032, 3: 1016, 4: 999, 5: 937, 6: 1030, 7: 1001, 8: 1025, 9: 981}\n",
      "First 20 Labels: [6, 9, 9, 4, 1, 1, 2, 7, 8, 3, 4, 7, 7, 2, 9, 9, 9, 3, 2, 6]\n",
      "\n",
      "Example of Image 5:\n",
      "Image - Min Value: 0 Max Value: 252\n",
      "Image - Shape: (32, 32, 3)\n",
      "Label - Label Id: 1 Name: automobile\n"
     ]
    },
    {
     "data": {
      "image/png": "[encoded data removed]",
      "text/plain": [
       "<matplotlib.figure.Figure at 0x7fb2b56f5400>"
      ]
     },
     "metadata": {
      "image/png": {
       "height": 250,
       "width": 253
      }
     },
     "output_type": "display_data"
    }
   ],
   "source": [
    "%matplotlib inline\n",
    "%config InlineBackend.figure_format = 'retina'\n",
    "\n",
    "import helper\n",
    "import numpy as np\n",
    "\n",
    "# Explore the dataset\n",
    "batch_id = 1\n",
    "sample_id = 5\n",
    "helper.display_stats(cifar10_dataset_folder_path, batch_id, sample_id)"
   ]
  },
  {
   "cell_type": "markdown",
   "metadata": {
    "deletable": true,
    "editable": true
   },
   "source": [
    "## Implement Preprocess Functions\n",
    "### Normalize\n",
    "In the cell below, implement the `normalize` function to take in image data, `x`, and return it as a normalized Numpy array. The values should be in the range of 0 to 1, inclusive.  The return object should be the same shape as `x`."
   ]
  },
  {
   "cell_type": "code",
   "execution_count": 3,
   "metadata": {
    "collapsed": false,
    "deletable": true,
    "editable": true
   },
   "outputs": [
    {
     "name": "stdout",
     "output_type": "stream",
     "text": [
      "Tests Passed\n"
     ]
    }
   ],
   "source": [
    "def normalize(x):\n",
    "    \"\"\"\n",
    "    Normalize a list of sample image data in the range of 0 to 1\n",
    "    : x: List of image data.  The image shape is (32, 32, 3)\n",
    "    : return: Numpy array of normalize data\n",
    "    \"\"\"\n",
    "    # TODO: Implement Function\n",
    "    return 1/255*(x)\n",
    "\n",
    "\n",
    "\"\"\"\n",
    "DON'T MODIFY ANYTHING IN THIS CELL THAT IS BELOW THIS LINE\n",
    "\"\"\"\n",
    "tests.test_normalize(normalize)"
   ]
  },
  {
   "cell_type": "markdown",
   "metadata": {
    "deletable": true,
    "editable": true
   },
   "source": [
    "### One-hot encode\n",
    "Just like the previous code cell, you'll be implementing a function for preprocessing.  This time, you'll implement the `one_hot_encode` function. The input, `x`, are a list of labels.  Implement the function to return the list of labels as One-Hot encoded Numpy array.  The possible values for labels are 0 to 9. The one-hot encoding function should return the same encoding for each value between each call to `one_hot_encode`.  Make sure to save the map of encodings outside the function.\n",
    "\n",
    "Hint: Don't reinvent the wheel."
   ]
  },
  {
   "cell_type": "code",
   "execution_count": 4,
   "metadata": {
    "collapsed": false,
    "deletable": true,
    "editable": true
   },
   "outputs": [
    {
     "name": "stdout",
     "output_type": "stream",
     "text": [
      "Tests Passed\n"
     ]
    }
   ],
   "source": [
    "def one_hot_encode(x):\n",
    "    \"\"\"\n",
    "    One hot encode a list of sample labels. Return a one-hot encoded vector for each label.\n",
    "    : x: List of sample Labels\n",
    "    : return: Numpy array of one-hot encoded labels\n",
    "    \"\"\"\n",
    "    # TODO: Implement Function\n",
    "    return np.eye(10)[x]\n",
    "\n",
    "\n",
    "\"\"\"\n",
    "DON'T MODIFY ANYTHING IN THIS CELL THAT IS BELOW THIS LINE\n",
    "\"\"\"\n",
    "tests.test_one_hot_encode(one_hot_encode)"
   ]
  },
  {
   "cell_type": "markdown",
   "metadata": {
    "deletable": true,
    "editable": true
   },
   "source": [
    "### Randomize Data\n",
    "As you saw from exploring the data above, the order of the samples are randomized.  It doesn't hurt to randomize it again, but you don't need to for this dataset."
   ]
  },
  {
   "cell_type": "markdown",
   "metadata": {
    "deletable": true,
    "editable": true
   },
   "source": [
    "## Preprocess all the data and save it\n",
    "Running the code cell below will preprocess all the CIFAR-10 data and save it to file. The code below also uses 10% of the training data for validation."
   ]
  },
  {
   "cell_type": "code",
   "execution_count": 5,
   "metadata": {
    "collapsed": true,
    "deletable": true,
    "editable": true
   },
   "outputs": [],
   "source": [
    "\"\"\"\n",
    "DON'T MODIFY ANYTHING IN THIS CELL\n",
    "\"\"\"\n",
    "# Preprocess Training, Validation, and Testing Data\n",
    "helper.preprocess_and_save_data(cifar10_dataset_folder_path, normalize, one_hot_encode)"
   ]
  },
  {
   "cell_type": "markdown",
   "metadata": {
    "deletable": true,
    "editable": true
   },
   "source": [
    "# Check Point\n",
    "This is your first checkpoint.  If you ever decide to come back to this notebook or have to restart the notebook, you can start from here.  The preprocessed data has been saved to disk."
   ]
  },
  {
   "cell_type": "code",
   "execution_count": 6,
   "metadata": {
    "collapsed": true,
    "deletable": true,
    "editable": true
   },
   "outputs": [],
   "source": [
    "\"\"\"\n",
    "DON'T MODIFY ANYTHING IN THIS CELL\n",
    "\"\"\"\n",
    "import pickle\n",
    "import problem_unittests as tests\n",
    "import helper\n",
    "\n",
    "# Load the Preprocessed Validation data\n",
    "valid_features, valid_labels = pickle.load(open('preprocess_validation.p', mode='rb'))"
   ]
  },
  {
   "cell_type": "markdown",
   "metadata": {
    "deletable": true,
    "editable": true
   },
   "source": [
    "## Build the network\n",
    "For the neural network, you'll build each layer into a function.  Most of the code you've seen has been outside of functions. To test your code more thoroughly, we require that you put each layer in a function.  This allows us to give you better feedback and test for simple mistakes using our unittests before you submit your project.\n",
    "\n",
    ">**Note:** If you're finding it hard to dedicate enough time for this course each week, we've provided a small shortcut to this part of the project. In the next couple of problems, you'll have the option to use classes from the [TensorFlow Layers](https://www.tensorflow.org/api_docs/python/tf/layers) or [TensorFlow Layers (contrib)](https://www.tensorflow.org/api_guides/python/contrib.layers) packages to build each layer, except the layers you build in the \"Convolutional and Max Pooling Layer\" section.  TF Layers is similar to Keras's and TFLearn's abstraction to layers, so it's easy to pickup.\n",
    "\n",
    ">However, if you would like to get the most out of this course, try to solve all the problems _without_ using anything from the TF Layers packages. You **can** still use classes from other packages that happen to have the same name as ones you find in TF Layers! For example, instead of using the TF Layers version of the `conv2d` class, [tf.layers.conv2d](https://www.tensorflow.org/api_docs/python/tf/layers/conv2d), you would want to use the TF Neural Network version of `conv2d`, [tf.nn.conv2d](https://www.tensorflow.org/api_docs/python/tf/nn/conv2d). \n",
    "\n",
    "Let's begin!\n",
    "\n",
    "### Input\n",
    "The neural network needs to read the image data, one-hot encoded labels, and dropout keep probability. Implement the following functions\n",
    "* Implement `neural_net_image_input`\n",
    " * Return a [TF Placeholder](https://www.tensorflow.org/api_docs/python/tf/placeholder)\n",
    " * Set the shape using `image_shape` with batch size set to `None`.\n",
    " * Name the TensorFlow placeholder \"x\" using the TensorFlow `name` parameter in the [TF Placeholder](https://www.tensorflow.org/api_docs/python/tf/placeholder).\n",
    "* Implement `neural_net_label_input`\n",
    " * Return a [TF Placeholder](https://www.tensorflow.org/api_docs/python/tf/placeholder)\n",
    " * Set the shape using `n_classes` with batch size set to `None`.\n",
    " * Name the TensorFlow placeholder \"y\" using the TensorFlow `name` parameter in the [TF Placeholder](https://www.tensorflow.org/api_docs/python/tf/placeholder).\n",
    "* Implement `neural_net_keep_prob_input`\n",
    " * Return a [TF Placeholder](https://www.tensorflow.org/api_docs/python/tf/placeholder) for dropout keep probability.\n",
    " * Name the TensorFlow placeholder \"keep_prob\" using the TensorFlow `name` parameter in the [TF Placeholder](https://www.tensorflow.org/api_docs/python/tf/placeholder).\n",
    "\n",
    "These names will be used at the end of the project to load your saved model.\n",
    "\n",
    "Note: `None` for shapes in TensorFlow allow for a dynamic size."
   ]
  },
  {
   "cell_type": "code",
   "execution_count": 7,
   "metadata": {
    "collapsed": false,
    "deletable": true,
    "editable": true
   },
   "outputs": [
    {
     "name": "stdout",
     "output_type": "stream",
     "text": [
      "Image Input Tests Passed.\n",
      "Label Input Tests Passed.\n",
      "Keep Prob Tests Passed.\n"
     ]
    }
   ],
   "source": [
    "import tensorflow as tf\n",
    "\n",
    "def neural_net_image_input(image_shape):\n",
    "    \"\"\"\n",
    "    Return a Tensor for a batch of image input\n",
    "    : image_shape: Shape of the images\n",
    "    : return: Tensor for image input.\n",
    "    \"\"\"\n",
    "    # TODO: Implement Function\n",
    "    return tf.placeholder(tf.float32, shape = [None, *image_shape], name = \"x\")\n",
    "\n",
    "\n",
    "\n",
    "def neural_net_label_input(n_classes):\n",
    "    \"\"\"\n",
    "    Return a Tensor for a batch of label input\n",
    "    : n_classes: Number of classes\n",
    "    : return: Tensor for label input.\n",
    "    \"\"\"\n",
    "    # TODO: Implement Function\n",
    "    return tf.placeholder(tf.int32, shape=[None, n_classes], name = 'y')\n",
    "\n",
    "\n",
    "def neural_net_keep_prob_input():\n",
    "    \"\"\"\n",
    "    Return a Tensor for keep probability\n",
    "    : return: Tensor for keep probability.\n",
    "    \"\"\"\n",
    "    # TODO: Implement Function\n",
    "    return tf.placeholder(tf.float32, name='keep_prob')\n",
    "\n",
    "\n",
    "\"\"\"\n",
    "DON'T MODIFY ANYTHING IN THIS CELL THAT IS BELOW THIS LINE\n",
    "\"\"\"\n",
    "tf.reset_default_graph()\n",
    "tests.test_nn_image_inputs(neural_net_image_input)\n",
    "tests.test_nn_label_inputs(neural_net_label_input)\n",
    "tests.test_nn_keep_prob_inputs(neural_net_keep_prob_input)"
   ]
  },
  {
   "cell_type": "markdown",
   "metadata": {
    "deletable": true,
    "editable": true
   },
   "source": [
    "### Convolution and Max Pooling Layer\n",
    "Convolution layers have a lot of success with images. For this code cell, you should implement the function `conv2d_maxpool` to apply convolution then max pooling:\n",
    "* Create the weight and bias using `conv_ksize`, `conv_num_outputs` and the shape of `x_tensor`.\n",
    "* Apply a convolution to `x_tensor` using weight and `conv_strides`.\n",
    " * We recommend you use same padding, but you're welcome to use any padding.\n",
    "* Add bias\n",
    "* Add a nonlinear activation to the convolution.\n",
    "* Apply Max Pooling using `pool_ksize` and `pool_strides`.\n",
    " * We recommend you use same padding, but you're welcome to use any padding.\n",
    "\n",
    "**Note:** You **can't** use [TensorFlow Layers](https://www.tensorflow.org/api_docs/python/tf/layers) or [TensorFlow Layers (contrib)](https://www.tensorflow.org/api_guides/python/contrib.layers) for **this** layer, but you can still use TensorFlow's [Neural Network](https://www.tensorflow.org/api_docs/python/tf/nn) package. You may still use the shortcut option for all the **other** layers."
   ]
  },
  {
   "cell_type": "code",
   "execution_count": 8,
   "metadata": {
    "collapsed": false,
    "deletable": true,
    "editable": true
   },
   "outputs": [
    {
     "name": "stdout",
     "output_type": "stream",
     "text": [
      "Tests Passed\n"
     ]
    }
   ],
   "source": [
    "def conv2d_maxpool(x_tensor, conv_num_outputs, conv_ksize, conv_strides, pool_ksize, pool_strides):\n",
    "    \"\"\"\n",
    "    Apply convolution then max pooling to x_tensor\n",
    "    :param x_tensor: TensorFlow Tensor\n",
    "    :param conv_num_outputs: Number of outputs for the convolutional layer\n",
    "    :param conv_ksize: kernal size 2-D Tuple for the convolutional layer\n",
    "    :param conv_strides: Stride 2-D Tuple for convolution\n",
    "    :param pool_ksize: kernal size 2-D Tuple for pool\n",
    "    :param pool_strides: Stride 2-D Tuple for pool\n",
    "    : return: A tensor that represents convolution and max pooling of x_tensor\n",
    "    \"\"\"\n",
    "    # TODO: Implement Function\n",
    "    depth = x_tensor.get_shape().as_list()[3]\n",
    "    weight_shape = [conv_ksize[0], conv_ksize[1], depth, conv_num_outputs]   \n",
    "    weight = tf.Variable(tf.truncated_normal(shape=weight_shape, stddev=1.0, dtype=tf.float32))\n",
    "    bias = tf.Variable(tf.truncated_normal([conv_num_outputs]))\n",
    "    \n",
    "    conv_layer = tf.nn.conv2d(x_tensor, weight, strides=[1, conv_strides[0], conv_strides[1], 1], padding='SAME')\n",
    "    conv_layer = tf.nn.bias_add(conv_layer, bias)\n",
    "    conv_layer = tf.nn.relu(conv_layer)\n",
    "    \n",
    "    filter_shape = [1, pool_ksize[0], pool_ksize[1], 1]\n",
    "    strides = [1, pool_strides[0], pool_strides[1], 1]\n",
    "    \n",
    "    return tf.nn.max_pool(conv_layer, filter_shape, strides, padding='SAME')\n",
    "\n",
    "\n",
    "\"\"\"\n",
    "DON'T MODIFY ANYTHING IN THIS CELL THAT IS BELOW THIS LINE\n",
    "\"\"\"\n",
    "tests.test_con_pool(conv2d_maxpool)"
   ]
  },
  {
   "cell_type": "markdown",
   "metadata": {
    "deletable": true,
    "editable": true
   },
   "source": [
    "### Flatten Layer\n",
    "Implement the `flatten` function to change the dimension of `x_tensor` from a 4-D tensor to a 2-D tensor.  The output should be the shape (*Batch Size*, *Flattened Image Size*). Shortcut option: you can use classes from the [TensorFlow Layers](https://www.tensorflow.org/api_docs/python/tf/layers) or [TensorFlow Layers (contrib)](https://www.tensorflow.org/api_guides/python/contrib.layers) packages for this layer. For more of a challenge, only use other TensorFlow packages."
   ]
  },
  {
   "cell_type": "code",
   "execution_count": 10,
   "metadata": {
    "collapsed": false,
    "deletable": true,
    "editable": true
   },
   "outputs": [
    {
     "name": "stdout",
     "output_type": "stream",
     "text": [
      "Tests Passed\n"
     ]
    }
   ],
   "source": [
    "def flatten(x_tensor):\n",
    "    \"\"\"\n",
    "    Flatten x_tensor to (Batch Size, Flattened Image Size)\n",
    "    : x_tensor: A tensor of size (Batch Size, ...), where ... are the image dimensions.\n",
    "    : return: A tensor of size (Batch Size, Flattened Image Size).\n",
    "    \"\"\"\n",
    "    # TODO: Implement Function\n",
    "    shape = x_tensor.get_shape().as_list()\n",
    "    dim = np.prod(shape[1:])\n",
    "    return tf.reshape(x_tensor, [-1, dim])\n",
    "\n",
    "\n",
    "\"\"\"\n",
    "DON'T MODIFY ANYTHING IN THIS CELL THAT IS BELOW THIS LINE\n",
    "\"\"\"\n",
    "tests.test_flatten(flatten)"
   ]
  },
  {
   "cell_type": "markdown",
   "metadata": {
    "deletable": true,
    "editable": true
   },
   "source": [
    "### Fully-Connected Layer\n",
    "Implement the `fully_conn` function to apply a fully connected layer to `x_tensor` with the shape (*Batch Size*, *num_outputs*). Shortcut option: you can use classes from the [TensorFlow Layers](https://www.tensorflow.org/api_docs/python/tf/layers) or [TensorFlow Layers (contrib)](https://www.tensorflow.org/api_guides/python/contrib.layers) packages for this layer. For more of a challenge, only use other TensorFlow packages."
   ]
  },
  {
   "cell_type": "code",
   "execution_count": 11,
   "metadata": {
    "collapsed": false,
    "deletable": true,
    "editable": true
   },
   "outputs": [
    {
     "name": "stdout",
     "output_type": "stream",
     "text": [
      "Tests Passed\n"
     ]
    }
   ],
   "source": [
    "def fully_conn(x_tensor, num_outputs):\n",
    "    \"\"\"\n",
    "    Apply a fully connected layer to x_tensor using weight and bias\n",
    "    : x_tensor: A 2-D tensor where the first dimension is batch size.\n",
    "    : num_outputs: The number of output that the new tensor should be.\n",
    "    : return: A 2-D tensor where the second dimension is num_outputs.\n",
    "    \"\"\"\n",
    "    # TODO: Implement Function\n",
    "    shape = x_tensor.get_shape().as_list()[1]\n",
    "    weight = tf.Variable(tf.truncated_normal([shape, num_outputs], stddev=0.1, dtype=tf.float32))\n",
    "    bias = tf.Variable(tf.truncated_normal([num_outputs]))\n",
    "    return tf.add(tf.matmul(x_tensor, weight), bias)\n",
    "\n",
    "\"\"\"\n",
    "DON'T MODIFY ANYTHING IN THIS CELL THAT IS BELOW THIS LINE\n",
    "\"\"\"\n",
    "tests.test_fully_conn(fully_conn)"
   ]
  },
  {
   "cell_type": "markdown",
   "metadata": {
    "deletable": true,
    "editable": true
   },
   "source": [
    "### Output Layer\n",
    "Implement the `output` function to apply a fully connected layer to `x_tensor` with the shape (*Batch Size*, *num_outputs*). Shortcut option: you can use classes from the [TensorFlow Layers](https://www.tensorflow.org/api_docs/python/tf/layers) or [TensorFlow Layers (contrib)](https://www.tensorflow.org/api_guides/python/contrib.layers) packages for this layer. For more of a challenge, only use other TensorFlow packages.\n",
    "\n",
    "**Note:** Activation, softmax, or cross entropy should **not** be applied to this."
   ]
  },
  {
   "cell_type": "code",
   "execution_count": 12,
   "metadata": {
    "collapsed": false,
    "deletable": true,
    "editable": true
   },
   "outputs": [
    {
     "name": "stdout",
     "output_type": "stream",
     "text": [
      "Tests Passed\n"
     ]
    }
   ],
   "source": [
    "def output(x_tensor, num_outputs):\n",
    "    \"\"\"\n",
    "    Apply a output layer to x_tensor using weight and bias\n",
    "    : x_tensor: A 2-D tensor where the first dimension is batch size.\n",
    "    : num_outputs: The number of output that the new tensor should be.\n",
    "    : return: A 2-D tensor where the second dimension is num_outputs.\n",
    "    \"\"\"\n",
    "    # TODO: Implement Function\n",
    "    shape = x_tensor.get_shape().as_list()[1]\n",
    "    weight = tf.Variable(tf.truncated_normal([shape, num_outputs], stddev=0.1, dtype=tf.float32 ))\n",
    "    bias = tf.Variable(tf.truncated_normal([num_outputs]))\n",
    "    return tf.add(tf.matmul(x_tensor, weight), bias)\n",
    "\n",
    "\n",
    "\"\"\"\n",
    "DON'T MODIFY ANYTHING IN THIS CELL THAT IS BELOW THIS LINE\n",
    "\"\"\"\n",
    "tests.test_output(output)"
   ]
  },
  {
   "cell_type": "markdown",
   "metadata": {
    "deletable": true,
    "editable": true
   },
   "source": [
    "### Create Convolutional Model\n",
    "Implement the function `conv_net` to create a convolutional neural network model. The function takes in a batch of images, `x`, and outputs logits.  Use the layers you created above to create this model:\n",
    "\n",
    "* Apply 1, 2, or 3 Convolution and Max Pool layers\n",
    "* Apply a Flatten Layer\n",
    "* Apply 1, 2, or 3 Fully Connected Layers\n",
    "* Apply an Output Layer\n",
    "* Return the output\n",
    "* Apply [TensorFlow's Dropout](https://www.tensorflow.org/api_docs/python/tf/nn/dropout) to one or more layers in the model using `keep_prob`. "
   ]
  },
  {
   "cell_type": "code",
   "execution_count": 13,
   "metadata": {
    "collapsed": false,
    "deletable": true,
    "editable": true
   },
   "outputs": [
    {
     "name": "stdout",
     "output_type": "stream",
     "text": [
      "Neural Network Built!\n"
     ]
    }
   ],
   "source": [
    "def conv_net(x, keep_prob):\n",
    "    \"\"\"\n",
    "    Create a convolutional neural network model\n",
    "    : x: Placeholder tensor that holds image data.\n",
    "    : keep_prob: Placeholder tensor that hold dropout keep probability.\n",
    "    : return: Tensor that represents logits\n",
    "    \"\"\"\n",
    "    # TODO: Apply 1, 2, or 3 Convolution and Max Pool layers\n",
    "    #    Play around with different number of outputs, kernel size and stride\n",
    "    # Function Definition from Above:\n",
    "    #    conv2d_maxpool(x_tensor, conv_num_outputs, conv_ksize, conv_strides, pool_ksize, pool_strides)\n",
    "    \n",
    "    \n",
    "\n",
    "    num_filters = 80\n",
    "    conv_size = (3,3)\n",
    "    conv_stride = (1,1)\n",
    "    pool_size = (2,2)\n",
    "    pool_stride = (2,2)\n",
    "        \n",
    "    conv = conv2d_maxpool(x, num_filters, (conv_size[0], conv_size[1]), (conv_stride[0], conv_stride[1]),\n",
    "                          (pool_size[0], pool_size[1]), (pool_stride[0], pool_stride[1]))\n",
    "    \n",
    "    \n",
    "    \n",
    "    # TODO: Apply a Flatten Layer\n",
    "    # Function Definition from Above:\n",
    "    #   flatten(x_tensor)\n",
    "    flat = flatten(conv)\n",
    "\n",
    "    # TODO: Apply 1, 2, or 3 Fully Connected Layers\n",
    "    #    Play around with different number of outputs\n",
    "    # Function Definition from Above:\n",
    "    #   fully_conn(x_tensor, num_outputs)\n",
    "    \n",
    "    num_out= 512\n",
    "    \n",
    "    fully = fully_conn(flat, num_out)\n",
    "    fully = tf.nn.dropout(fully, keep_prob)\n",
    "    \n",
    "    num_outs = 256\n",
    "    \n",
    "    fully = fully_conn(fully, num_outs)\n",
    "    fully = tf.nn.dropout(fully, keep_prob)\n",
    "    \n",
    "    # TODO: Apply an Output Layer\n",
    "    #    Set this to the number of classes\n",
    "    # Function Definition from Above:\n",
    "    #   output(x_tensor, num_outputs)\n",
    "    \n",
    "    num_outputs = 10\n",
    "    \n",
    "    out = output(fully, num_outputs)\n",
    "    out = tf.nn.dropout(out, keep_prob)\n",
    "    # TODO: return output\n",
    "    return out\n",
    "\n",
    "\n",
    "\"\"\"\n",
    "DON'T MODIFY ANYTHING IN THIS CELL THAT IS BELOW THIS LINE\n",
    "\"\"\"\n",
    "\n",
    "##############################\n",
    "## Build the Neural Network ##\n",
    "##############################\n",
    "\n",
    "# Remove previous weights, bias, inputs, etc..\n",
    "tf.reset_default_graph()\n",
    "\n",
    "# Inputs\n",
    "x = neural_net_image_input((32, 32, 3))\n",
    "y = neural_net_label_input(10)\n",
    "keep_prob = neural_net_keep_prob_input()\n",
    "\n",
    "# Model\n",
    "logits = conv_net(x, keep_prob)\n",
    "\n",
    "# Name logits Tensor, so that is can be loaded from disk after training\n",
    "logits = tf.identity(logits, name='logits')\n",
    "\n",
    "# Loss and Optimizer\n",
    "cost = tf.reduce_mean(tf.nn.softmax_cross_entropy_with_logits(logits=logits, labels=y))\n",
    "optimizer = tf.train.AdamOptimizer().minimize(cost)\n",
    "\n",
    "# Accuracy\n",
    "correct_pred = tf.equal(tf.argmax(logits, 1), tf.argmax(y, 1))\n",
    "accuracy = tf.reduce_mean(tf.cast(correct_pred, tf.float32), name='accuracy')\n",
    "\n",
    "tests.test_conv_net(conv_net)"
   ]
  },
  {
   "cell_type": "markdown",
   "metadata": {
    "deletable": true,
    "editable": true
   },
   "source": [
    "## Train the Neural Network\n",
    "### Single Optimization\n",
    "Implement the function `train_neural_network` to do a single optimization.  The optimization should use `optimizer` to optimize in `session` with a `feed_dict` of the following:\n",
    "* `x` for image input\n",
    "* `y` for labels\n",
    "* `keep_prob` for keep probability for dropout\n",
    "\n",
    "This function will be called for each batch, so `tf.global_variables_initializer()` has already been called.\n",
    "\n",
    "Note: Nothing needs to be returned. This function is only optimizing the neural network."
   ]
  },
  {
   "cell_type": "code",
   "execution_count": 14,
   "metadata": {
    "collapsed": false,
    "deletable": true,
    "editable": true
   },
   "outputs": [
    {
     "name": "stdout",
     "output_type": "stream",
     "text": [
      "Tests Passed\n"
     ]
    }
   ],
   "source": [
    "def train_neural_network(session, optimizer, keep_probability, feature_batch, label_batch):\n",
    "    \"\"\"\n",
    "    Optimize the session on a batch of images and labels\n",
    "    : session: Current TensorFlow session\n",
    "    : optimizer: TensorFlow optimizer function\n",
    "    : keep_probability: keep probability\n",
    "    : feature_batch: Batch of Numpy image data\n",
    "    : label_batch: Batch of Numpy label data\n",
    "    \"\"\"\n",
    "    # TODO: Implement Function\n",
    "    session.run(optimizer, feed_dict={x: feature_batch, y: label_batch, keep_prob: keep_probability})\n",
    "\n",
    "\n",
    "\n",
    "\"\"\"\n",
    "DON'T MODIFY ANYTHING IN THIS CELL THAT IS BELOW THIS LINE\n",
    "\"\"\"\n",
    "tests.test_train_nn(train_neural_network)"
   ]
  },
  {
   "cell_type": "markdown",
   "metadata": {
    "deletable": true,
    "editable": true
   },
   "source": [
    "### Show Stats\n",
    "Implement the function `print_stats` to print loss and validation accuracy.  Use the global variables `valid_features` and `valid_labels` to calculate validation accuracy.  Use a keep probability of `1.0` to calculate the loss and validation accuracy."
   ]
  },
  {
   "cell_type": "code",
   "execution_count": 15,
   "metadata": {
    "collapsed": true,
    "deletable": true,
    "editable": true
   },
   "outputs": [],
   "source": [
    "def print_stats(session, feature_batch, label_batch, cost, accuracy):\n",
    "    \"\"\"\n",
    "    Print information about loss and validation accuracy\n",
    "    : session: Current TensorFlow session\n",
    "    : feature_batch: Batch of Numpy image data\n",
    "    : label_batch: Batch of Numpy label data\n",
    "    : cost: TensorFlow cost function\n",
    "    : accuracy: TensorFlow accuracy function\n",
    "    \"\"\"\n",
    "    # TODO: Implement Function\n",
    "    loss = session.run(cost, feed_dict={x: feature_batch, y: label_batch, keep_prob: 1.})\n",
    "    valid_acc = session.run(accuracy, feed_dict={x: valid_features, y: valid_labels, keep_prob: 1.})\n",
    "    print(\"loss:\", loss,\"   \", \"accuracy:\", valid_acc)"
   ]
  },
  {
   "cell_type": "markdown",
   "metadata": {
    "deletable": true,
    "editable": true
   },
   "source": [
    "### Hyperparameters\n",
    "Tune the following parameters:\n",
    "* Set `epochs` to the number of iterations until the network stops learning or start overfitting\n",
    "* Set `batch_size` to the highest number that your machine has memory for.  Most people set them to common sizes of memory:\n",
    " * 64\n",
    " * 128\n",
    " * 256\n",
    " * ...\n",
    "* Set `keep_probability` to the probability of keeping a node using dropout"
   ]
  },
  {
   "cell_type": "code",
   "execution_count": 16,
   "metadata": {
    "collapsed": true,
    "deletable": true,
    "editable": true
   },
   "outputs": [],
   "source": [
    "# TODO: Tune Parameters\n",
    "epochs = 40\n",
    "batch_size = 1024\n",
    "keep_probability = .5"
   ]
  },
  {
   "cell_type": "markdown",
   "metadata": {
    "deletable": true,
    "editable": true
   },
   "source": [
    "### Train on a Single CIFAR-10 Batch\n",
    "Instead of training the neural network on all the CIFAR-10 batches of data, let's use a single batch. This should save time while you iterate on the model to get a better accuracy.  Once the final validation accuracy is 50% or greater, run the model on all the data in the next section."
   ]
  },
  {
   "cell_type": "code",
   "execution_count": 17,
   "metadata": {
    "collapsed": false,
    "deletable": true,
    "editable": true
   },
   "outputs": [
    {
     "name": "stdout",
     "output_type": "stream",
     "text": [
      "Checking the Training on a Single Batch...\n",
      "Epoch  1, CIFAR-10 Batch 1:  loss: 75.0944     accuracy: 0.194\n",
      "Epoch  2, CIFAR-10 Batch 1:  loss: 52.9191     accuracy: 0.2352\n",
      "Epoch  3, CIFAR-10 Batch 1:  loss: 27.2734     accuracy: 0.3274\n",
      "Epoch  4, CIFAR-10 Batch 1:  loss: 22.8888     accuracy: 0.3304\n",
      "Epoch  5, CIFAR-10 Batch 1:  loss: 19.4055     accuracy: 0.3596\n",
      "Epoch  6, CIFAR-10 Batch 1:  loss: 15.4326     accuracy: 0.3702\n",
      "Epoch  7, CIFAR-10 Batch 1:  loss: 14.9475     accuracy: 0.3762\n",
      "Epoch  8, CIFAR-10 Batch 1:  loss: 12.1809     accuracy: 0.3982\n",
      "Epoch  9, CIFAR-10 Batch 1:  loss: 15.3672     accuracy: 0.3698\n",
      "Epoch 10, CIFAR-10 Batch 1:  loss: 13.9476     accuracy: 0.3774\n",
      "Epoch 11, CIFAR-10 Batch 1:  loss: 10.0659     accuracy: 0.4212\n",
      "Epoch 12, CIFAR-10 Batch 1:  loss: 8.83669     accuracy: 0.4146\n",
      "Epoch 13, CIFAR-10 Batch 1:  loss: 7.51361     accuracy: 0.4426\n",
      "Epoch 14, CIFAR-10 Batch 1:  loss: 6.99977     accuracy: 0.4504\n",
      "Epoch 15, CIFAR-10 Batch 1:  loss: 7.54655     accuracy: 0.4426\n",
      "Epoch 16, CIFAR-10 Batch 1:  loss: 6.87062     accuracy: 0.436\n",
      "Epoch 17, CIFAR-10 Batch 1:  loss: 6.49237     accuracy: 0.4462\n",
      "Epoch 18, CIFAR-10 Batch 1:  loss: 6.44923     accuracy: 0.4552\n",
      "Epoch 19, CIFAR-10 Batch 1:  loss: 5.88996     accuracy: 0.448\n",
      "Epoch 20, CIFAR-10 Batch 1:  loss: 5.60062     accuracy: 0.466\n",
      "Epoch 21, CIFAR-10 Batch 1:  loss: 5.8041     accuracy: 0.454\n",
      "Epoch 22, CIFAR-10 Batch 1:  loss: 4.68646     accuracy: 0.4712\n",
      "Epoch 23, CIFAR-10 Batch 1:  loss: 4.31691     accuracy: 0.4726\n",
      "Epoch 24, CIFAR-10 Batch 1:  loss: 4.37896     accuracy: 0.4864\n",
      "Epoch 25, CIFAR-10 Batch 1:  loss: 4.01511     accuracy: 0.4828\n",
      "Epoch 26, CIFAR-10 Batch 1:  loss: 4.19648     accuracy: 0.485\n",
      "Epoch 27, CIFAR-10 Batch 1:  loss: 4.05973     accuracy: 0.4772\n",
      "Epoch 28, CIFAR-10 Batch 1:  loss: 3.90048     accuracy: 0.4886\n",
      "Epoch 29, CIFAR-10 Batch 1:  loss: 3.44411     accuracy: 0.497\n",
      "Epoch 30, CIFAR-10 Batch 1:  loss: 3.53769     accuracy: 0.4906\n",
      "Epoch 31, CIFAR-10 Batch 1:  loss: 3.30432     accuracy: 0.4992\n",
      "Epoch 32, CIFAR-10 Batch 1:  loss: 3.67202     accuracy: 0.4994\n",
      "Epoch 33, CIFAR-10 Batch 1:  loss: 3.50202     accuracy: 0.4832\n",
      "Epoch 34, CIFAR-10 Batch 1:  loss: 3.34265     accuracy: 0.4908\n",
      "Epoch 35, CIFAR-10 Batch 1:  loss: 3.37967     accuracy: 0.4946\n",
      "Epoch 36, CIFAR-10 Batch 1:  loss: 2.8286     accuracy: 0.5016\n",
      "Epoch 37, CIFAR-10 Batch 1:  loss: 2.61363     accuracy: 0.5112\n",
      "Epoch 38, CIFAR-10 Batch 1:  loss: 3.20553     accuracy: 0.4988\n",
      "Epoch 39, CIFAR-10 Batch 1:  loss: 3.36366     accuracy: 0.4888\n",
      "Epoch 40, CIFAR-10 Batch 1:  loss: 2.86494     accuracy: 0.5042\n"
     ]
    }
   ],
   "source": [
    "\"\"\"\n",
    "DON'T MODIFY ANYTHING IN THIS CELL\n",
    "\"\"\"\n",
    "print('Checking the Training on a Single Batch...')\n",
    "with tf.Session() as sess:\n",
    "    # Initializing the variables\n",
    "    sess.run(tf.global_variables_initializer())\n",
    "    \n",
    "    # Training cycle\n",
    "    for epoch in range(epochs):\n",
    "        batch_i = 1\n",
    "        for batch_features, batch_labels in helper.load_preprocess_training_batch(batch_i, batch_size):\n",
    "            train_neural_network(sess, optimizer, keep_probability, batch_features, batch_labels)\n",
    "        print('Epoch {:>2}, CIFAR-10 Batch {}:  '.format(epoch + 1, batch_i), end='')\n",
    "        print_stats(sess, batch_features, batch_labels, cost, accuracy)"
   ]
  },
  {
   "cell_type": "markdown",
   "metadata": {
    "deletable": true,
    "editable": true
   },
   "source": [
    "### Fully Train the Model\n",
    "Now that you got a good accuracy with a single CIFAR-10 batch, try it with all five batches."
   ]
  },
  {
   "cell_type": "code",
   "execution_count": 18,
   "metadata": {
    "collapsed": false,
    "deletable": true,
    "editable": true
   },
   "outputs": [
    {
     "name": "stdout",
     "output_type": "stream",
     "text": [
      "Training...\n",
      "Epoch  1, CIFAR-10 Batch 1:  loss: 83.4908     accuracy: 0.2062\n",
      "Epoch  1, CIFAR-10 Batch 2:  loss: 68.8849     accuracy: 0.255\n",
      "Epoch  1, CIFAR-10 Batch 3:  loss: 32.4449     accuracy: 0.3152\n",
      "Epoch  1, CIFAR-10 Batch 4:  loss: 19.027     accuracy: 0.3618\n",
      "Epoch  1, CIFAR-10 Batch 5:  loss: 19.4863     accuracy: 0.3318\n",
      "Epoch  2, CIFAR-10 Batch 1:  loss: 16.9239     accuracy: 0.3468\n",
      "Epoch  2, CIFAR-10 Batch 2:  loss: 12.3966     accuracy: 0.4058\n",
      "Epoch  2, CIFAR-10 Batch 3:  loss: 15.1633     accuracy: 0.381\n",
      "Epoch  2, CIFAR-10 Batch 4:  loss: 11.3494     accuracy: 0.419\n",
      "Epoch  2, CIFAR-10 Batch 5:  loss: 11.8952     accuracy: 0.3952\n",
      "Epoch  3, CIFAR-10 Batch 1:  loss: 11.583     accuracy: 0.4116\n",
      "Epoch  3, CIFAR-10 Batch 2:  loss: 9.89624     accuracy: 0.4302\n",
      "Epoch  3, CIFAR-10 Batch 3:  loss: 9.26626     accuracy: 0.43\n",
      "Epoch  3, CIFAR-10 Batch 4:  loss: 8.0342     accuracy: 0.4628\n",
      "Epoch  3, CIFAR-10 Batch 5:  loss: 9.83131     accuracy: 0.4322\n",
      "Epoch  4, CIFAR-10 Batch 1:  loss: 7.0178     accuracy: 0.473\n",
      "Epoch  4, CIFAR-10 Batch 2:  loss: 7.0924     accuracy: 0.4528\n",
      "Epoch  4, CIFAR-10 Batch 3:  loss: 8.4625     accuracy: 0.4424\n",
      "Epoch  4, CIFAR-10 Batch 4:  loss: 7.09096     accuracy: 0.48\n",
      "Epoch  4, CIFAR-10 Batch 5:  loss: 7.07843     accuracy: 0.4606\n",
      "Epoch  5, CIFAR-10 Batch 1:  loss: 6.82107     accuracy: 0.479\n",
      "Epoch  5, CIFAR-10 Batch 2:  loss: 7.01282     accuracy: 0.4672\n",
      "Epoch  5, CIFAR-10 Batch 3:  loss: 6.60032     accuracy: 0.466\n",
      "Epoch  5, CIFAR-10 Batch 4:  loss: 6.0641     accuracy: 0.4818\n",
      "Epoch  5, CIFAR-10 Batch 5:  loss: 5.72765     accuracy: 0.4998\n",
      "Epoch  6, CIFAR-10 Batch 1:  loss: 5.32635     accuracy: 0.507\n",
      "Epoch  6, CIFAR-10 Batch 2:  loss: 4.83269     accuracy: 0.5146\n",
      "Epoch  6, CIFAR-10 Batch 3:  loss: 4.73137     accuracy: 0.5144\n",
      "Epoch  6, CIFAR-10 Batch 4:  loss: 5.10868     accuracy: 0.5012\n",
      "Epoch  6, CIFAR-10 Batch 5:  loss: 5.22625     accuracy: 0.5114\n",
      "Epoch  7, CIFAR-10 Batch 1:  loss: 3.9103     accuracy: 0.5332\n",
      "Epoch  7, CIFAR-10 Batch 2:  loss: 3.86111     accuracy: 0.519\n",
      "Epoch  7, CIFAR-10 Batch 3:  loss: 4.50352     accuracy: 0.5102\n",
      "Epoch  7, CIFAR-10 Batch 4:  loss: 3.87587     accuracy: 0.5326\n",
      "Epoch  7, CIFAR-10 Batch 5:  loss: 3.97518     accuracy: 0.5312\n",
      "Epoch  8, CIFAR-10 Batch 1:  loss: 3.96795     accuracy: 0.5156\n",
      "Epoch  8, CIFAR-10 Batch 2:  loss: 3.57464     accuracy: 0.5326\n",
      "Epoch  8, CIFAR-10 Batch 3:  loss: 3.46936     accuracy: 0.5296\n",
      "Epoch  8, CIFAR-10 Batch 4:  loss: 3.16941     accuracy: 0.5438\n",
      "Epoch  8, CIFAR-10 Batch 5:  loss: 3.95293     accuracy: 0.5146\n",
      "Epoch  9, CIFAR-10 Batch 1:  loss: 3.44627     accuracy: 0.5204\n",
      "Epoch  9, CIFAR-10 Batch 2:  loss: 3.29784     accuracy: 0.5278\n",
      "Epoch  9, CIFAR-10 Batch 3:  loss: 3.12066     accuracy: 0.5348\n",
      "Epoch  9, CIFAR-10 Batch 4:  loss: 2.92099     accuracy: 0.5436\n",
      "Epoch  9, CIFAR-10 Batch 5:  loss: 2.99136     accuracy: 0.5378\n",
      "Epoch 10, CIFAR-10 Batch 1:  loss: 2.98689     accuracy: 0.5212\n",
      "Epoch 10, CIFAR-10 Batch 2:  loss: 2.79267     accuracy: 0.5424\n",
      "Epoch 10, CIFAR-10 Batch 3:  loss: 2.68018     accuracy: 0.5378\n",
      "Epoch 10, CIFAR-10 Batch 4:  loss: 2.61803     accuracy: 0.548\n",
      "Epoch 10, CIFAR-10 Batch 5:  loss: 2.73501     accuracy: 0.5364\n",
      "Epoch 11, CIFAR-10 Batch 1:  loss: 2.77885     accuracy: 0.5434\n",
      "Epoch 11, CIFAR-10 Batch 2:  loss: 2.4172     accuracy: 0.5412\n",
      "Epoch 11, CIFAR-10 Batch 3:  loss: 2.39571     accuracy: 0.5504\n",
      "Epoch 11, CIFAR-10 Batch 4:  loss: 2.74971     accuracy: 0.533\n",
      "Epoch 11, CIFAR-10 Batch 5:  loss: 2.72224     accuracy: 0.5258\n",
      "Epoch 12, CIFAR-10 Batch 1:  loss: 2.44874     accuracy: 0.5432\n",
      "Epoch 12, CIFAR-10 Batch 2:  loss: 2.2548     accuracy: 0.54\n",
      "Epoch 12, CIFAR-10 Batch 3:  loss: 2.13266     accuracy: 0.5526\n",
      "Epoch 12, CIFAR-10 Batch 4:  loss: 2.43241     accuracy: 0.5322\n",
      "Epoch 12, CIFAR-10 Batch 5:  loss: 2.80868     accuracy: 0.5114\n",
      "Epoch 13, CIFAR-10 Batch 1:  loss: 2.28171     accuracy: 0.5492\n",
      "Epoch 13, CIFAR-10 Batch 2:  loss: 2.20765     accuracy: 0.5224\n",
      "Epoch 13, CIFAR-10 Batch 3:  loss: 2.29157     accuracy: 0.5242\n",
      "Epoch 13, CIFAR-10 Batch 4:  loss: 2.19147     accuracy: 0.5402\n",
      "Epoch 13, CIFAR-10 Batch 5:  loss: 2.40952     accuracy: 0.5228\n",
      "Epoch 14, CIFAR-10 Batch 1:  loss: 2.10159     accuracy: 0.54\n",
      "Epoch 14, CIFAR-10 Batch 2:  loss: 1.90842     accuracy: 0.5466\n",
      "Epoch 14, CIFAR-10 Batch 3:  loss: 1.79123     accuracy: 0.5614\n",
      "Epoch 14, CIFAR-10 Batch 4:  loss: 2.08865     accuracy: 0.5348\n",
      "Epoch 14, CIFAR-10 Batch 5:  loss: 1.9791     accuracy: 0.5418\n",
      "Epoch 15, CIFAR-10 Batch 1:  loss: 1.80162     accuracy: 0.5648\n",
      "Epoch 15, CIFAR-10 Batch 2:  loss: 1.8659     accuracy: 0.5344\n",
      "Epoch 15, CIFAR-10 Batch 3:  loss: 1.67396     accuracy: 0.564\n",
      "Epoch 15, CIFAR-10 Batch 4:  loss: 1.94673     accuracy: 0.533\n",
      "Epoch 15, CIFAR-10 Batch 5:  loss: 1.85988     accuracy: 0.5332\n",
      "Epoch 16, CIFAR-10 Batch 1:  loss: 1.7461     accuracy: 0.5428\n",
      "Epoch 16, CIFAR-10 Batch 2:  loss: 1.74512     accuracy: 0.5558\n",
      "Epoch 16, CIFAR-10 Batch 3:  loss: 1.6648     accuracy: 0.5502\n",
      "Epoch 16, CIFAR-10 Batch 4:  loss: 1.81286     accuracy: 0.5384\n",
      "Epoch 16, CIFAR-10 Batch 5:  loss: 1.7866     accuracy: 0.5394\n",
      "Epoch 17, CIFAR-10 Batch 1:  loss: 1.75478     accuracy: 0.53\n",
      "Epoch 17, CIFAR-10 Batch 2:  loss: 1.59849     accuracy: 0.5328\n",
      "Epoch 17, CIFAR-10 Batch 3:  loss: 1.42334     accuracy: 0.5638\n",
      "Epoch 17, CIFAR-10 Batch 4:  loss: 1.61732     accuracy: 0.5382\n",
      "Epoch 17, CIFAR-10 Batch 5:  loss: 1.57221     accuracy: 0.5434\n",
      "Epoch 18, CIFAR-10 Batch 1:  loss: 1.5215     accuracy: 0.5482\n",
      "Epoch 18, CIFAR-10 Batch 2:  loss: 1.47673     accuracy: 0.549\n",
      "Epoch 18, CIFAR-10 Batch 3:  loss: 1.60898     accuracy: 0.5176\n",
      "Epoch 18, CIFAR-10 Batch 4:  loss: 1.65277     accuracy: 0.527\n",
      "Epoch 18, CIFAR-10 Batch 5:  loss: 1.4252     accuracy: 0.556\n",
      "Epoch 19, CIFAR-10 Batch 1:  loss: 1.93605     accuracy: 0.5\n",
      "Epoch 19, CIFAR-10 Batch 2:  loss: 1.53224     accuracy: 0.5336\n",
      "Epoch 19, CIFAR-10 Batch 3:  loss: 1.33818     accuracy: 0.5534\n",
      "Epoch 19, CIFAR-10 Batch 4:  loss: 1.50605     accuracy: 0.5492\n",
      "Epoch 19, CIFAR-10 Batch 5:  loss: 1.60627     accuracy: 0.5222\n",
      "Epoch 20, CIFAR-10 Batch 1:  loss: 1.3965     accuracy: 0.5444\n",
      "Epoch 20, CIFAR-10 Batch 2:  loss: 1.47113     accuracy: 0.552\n",
      "Epoch 20, CIFAR-10 Batch 3:  loss: 1.61989     accuracy: 0.5144\n",
      "Epoch 20, CIFAR-10 Batch 4:  loss: 1.64065     accuracy: 0.5284\n",
      "Epoch 20, CIFAR-10 Batch 5:  loss: 1.76146     accuracy: 0.4956\n",
      "Epoch 21, CIFAR-10 Batch 1:  loss: 1.52751     accuracy: 0.5324\n",
      "Epoch 21, CIFAR-10 Batch 2:  loss: 1.33107     accuracy: 0.5528\n",
      "Epoch 21, CIFAR-10 Batch 3:  loss: 1.50774     accuracy: 0.5254\n",
      "Epoch 21, CIFAR-10 Batch 4:  loss: 1.53413     accuracy: 0.5292\n",
      "Epoch 21, CIFAR-10 Batch 5:  loss: 1.42714     accuracy: 0.543\n",
      "Epoch 22, CIFAR-10 Batch 1:  loss: 1.54158     accuracy: 0.5296\n",
      "Epoch 22, CIFAR-10 Batch 2:  loss: 1.4698     accuracy: 0.5376\n",
      "Epoch 22, CIFAR-10 Batch 3:  loss: 1.31023     accuracy: 0.5548\n",
      "Epoch 22, CIFAR-10 Batch 4:  loss: 1.49255     accuracy: 0.549\n",
      "Epoch 22, CIFAR-10 Batch 5:  loss: 1.46443     accuracy: 0.544\n",
      "Epoch 23, CIFAR-10 Batch 1:  loss: 1.42301     accuracy: 0.5412\n",
      "Epoch 23, CIFAR-10 Batch 2:  loss: 1.45415     accuracy: 0.5414\n",
      "Epoch 23, CIFAR-10 Batch 3:  loss: 1.45385     accuracy: 0.5332\n",
      "Epoch 23, CIFAR-10 Batch 4:  loss: 1.63567     accuracy: 0.5338\n",
      "Epoch 23, CIFAR-10 Batch 5:  loss: 1.5514     accuracy: 0.5356\n",
      "Epoch 24, CIFAR-10 Batch 1:  loss: 1.43775     accuracy: 0.551\n",
      "Epoch 24, CIFAR-10 Batch 2:  loss: 1.3919     accuracy: 0.5582\n",
      "Epoch 24, CIFAR-10 Batch 3:  loss: 1.31692     accuracy: 0.5558\n",
      "Epoch 24, CIFAR-10 Batch 4:  loss: 1.46925     accuracy: 0.5572\n",
      "Epoch 24, CIFAR-10 Batch 5:  loss: 1.32889     accuracy: 0.5604\n",
      "Epoch 25, CIFAR-10 Batch 1:  loss: 1.469     accuracy: 0.5472\n",
      "Epoch 25, CIFAR-10 Batch 2:  loss: 1.5287     accuracy: 0.545\n",
      "Epoch 25, CIFAR-10 Batch 3:  loss: 1.32142     accuracy: 0.5638\n",
      "Epoch 25, CIFAR-10 Batch 4:  loss: 1.54492     accuracy: 0.551\n",
      "Epoch 25, CIFAR-10 Batch 5:  loss: 1.56849     accuracy: 0.5396\n",
      "Epoch 26, CIFAR-10 Batch 1:  loss: 1.60366     accuracy: 0.5354\n",
      "Epoch 26, CIFAR-10 Batch 2:  loss: 1.46277     accuracy: 0.56\n",
      "Epoch 26, CIFAR-10 Batch 3:  loss: 1.41433     accuracy: 0.5488\n",
      "Epoch 26, CIFAR-10 Batch 4:  loss: 1.5711     accuracy: 0.5404\n",
      "Epoch 26, CIFAR-10 Batch 5:  loss: 1.58495     accuracy: 0.539\n",
      "Epoch 27, CIFAR-10 Batch 1:  loss: 1.40586     accuracy: 0.5578\n",
      "Epoch 27, CIFAR-10 Batch 2:  loss: 1.41652     accuracy: 0.559\n",
      "Epoch 27, CIFAR-10 Batch 3:  loss: 1.30278     accuracy: 0.5652\n",
      "Epoch 27, CIFAR-10 Batch 4:  loss: 1.46354     accuracy: 0.563\n",
      "Epoch 27, CIFAR-10 Batch 5:  loss: 1.5191     accuracy: 0.5324\n",
      "Epoch 28, CIFAR-10 Batch 1:  loss: 1.4644     accuracy: 0.5544\n",
      "Epoch 28, CIFAR-10 Batch 2:  loss: 1.49812     accuracy: 0.5472\n",
      "Epoch 28, CIFAR-10 Batch 3:  loss: 1.35736     accuracy: 0.5576\n",
      "Epoch 28, CIFAR-10 Batch 4:  loss: 1.43048     accuracy: 0.5624\n",
      "Epoch 28, CIFAR-10 Batch 5:  loss: 1.38773     accuracy: 0.5656\n",
      "Epoch 29, CIFAR-10 Batch 1:  loss: 1.36173     accuracy: 0.564\n",
      "Epoch 29, CIFAR-10 Batch 2:  loss: 1.36969     accuracy: 0.5738\n",
      "Epoch 29, CIFAR-10 Batch 3:  loss: 1.31195     accuracy: 0.5608\n",
      "Epoch 29, CIFAR-10 Batch 4:  loss: 1.48194     accuracy: 0.5504\n",
      "Epoch 29, CIFAR-10 Batch 5:  loss: 1.40235     accuracy: 0.5546\n",
      "Epoch 30, CIFAR-10 Batch 1:  loss: 1.49346     accuracy: 0.5444\n",
      "Epoch 30, CIFAR-10 Batch 2:  loss: 1.37804     accuracy: 0.5614\n",
      "Epoch 30, CIFAR-10 Batch 3:  loss: 1.28031     accuracy: 0.5678\n",
      "Epoch 30, CIFAR-10 Batch 4:  loss: 1.43114     accuracy: 0.5558\n",
      "Epoch 30, CIFAR-10 Batch 5:  loss: 1.34666     accuracy: 0.5656\n",
      "Epoch 31, CIFAR-10 Batch 1:  loss: 1.35911     accuracy: 0.5654\n",
      "Epoch 31, CIFAR-10 Batch 2:  loss: 1.32458     accuracy: 0.5732\n",
      "Epoch 31, CIFAR-10 Batch 3:  loss: 1.23713     accuracy: 0.5782\n",
      "Epoch 31, CIFAR-10 Batch 4:  loss: 1.38449     accuracy: 0.5658\n",
      "Epoch 31, CIFAR-10 Batch 5:  loss: 1.35012     accuracy: 0.5596\n",
      "Epoch 32, CIFAR-10 Batch 1:  loss: 1.36153     accuracy: 0.5602\n",
      "Epoch 32, CIFAR-10 Batch 2:  loss: 1.3459     accuracy: 0.5626\n",
      "Epoch 32, CIFAR-10 Batch 3:  loss: 1.25091     accuracy: 0.566\n",
      "Epoch 32, CIFAR-10 Batch 4:  loss: 1.39583     accuracy: 0.565\n",
      "Epoch 32, CIFAR-10 Batch 5:  loss: 1.32867     accuracy: 0.5614\n",
      "Epoch 33, CIFAR-10 Batch 1:  loss: 1.40226     accuracy: 0.558\n",
      "Epoch 33, CIFAR-10 Batch 2:  loss: 1.38092     accuracy: 0.5638\n",
      "Epoch 33, CIFAR-10 Batch 3:  loss: 1.29516     accuracy: 0.5688\n",
      "Epoch 33, CIFAR-10 Batch 4:  loss: 1.38853     accuracy: 0.5552\n",
      "Epoch 33, CIFAR-10 Batch 5:  loss: 1.30156     accuracy: 0.5614\n",
      "Epoch 34, CIFAR-10 Batch 1:  loss: 1.33746     accuracy: 0.5662\n",
      "Epoch 34, CIFAR-10 Batch 2:  loss: 1.31801     accuracy: 0.5708\n",
      "Epoch 34, CIFAR-10 Batch 3:  loss: 1.2466     accuracy: 0.5776\n",
      "Epoch 34, CIFAR-10 Batch 4:  loss: 1.3816     accuracy: 0.5566\n",
      "Epoch 34, CIFAR-10 Batch 5:  loss: 1.29209     accuracy: 0.57\n",
      "Epoch 35, CIFAR-10 Batch 1:  loss: 1.31083     accuracy: 0.5716\n",
      "Epoch 35, CIFAR-10 Batch 2:  loss: 1.28968     accuracy: 0.5788\n",
      "Epoch 35, CIFAR-10 Batch 3:  loss: 1.23826     accuracy: 0.5744\n",
      "Epoch 35, CIFAR-10 Batch 4:  loss: 1.34455     accuracy: 0.5624\n",
      "Epoch 35, CIFAR-10 Batch 5:  loss: 1.34465     accuracy: 0.5542\n",
      "Epoch 36, CIFAR-10 Batch 1:  loss: 1.3533     accuracy: 0.5668\n",
      "Epoch 36, CIFAR-10 Batch 2:  loss: 1.27767     accuracy: 0.5832\n",
      "Epoch 36, CIFAR-10 Batch 3:  loss: 1.2176     accuracy: 0.586\n",
      "Epoch 36, CIFAR-10 Batch 4:  loss: 1.27742     accuracy: 0.5726\n",
      "Epoch 36, CIFAR-10 Batch 5:  loss: 1.24208     accuracy: 0.5802\n",
      "Epoch 37, CIFAR-10 Batch 1:  loss: 1.28441     accuracy: 0.5702\n",
      "Epoch 37, CIFAR-10 Batch 2:  loss: 1.27262     accuracy: 0.5794\n",
      "Epoch 37, CIFAR-10 Batch 3:  loss: 1.16968     accuracy: 0.5894\n",
      "Epoch 37, CIFAR-10 Batch 4:  loss: 1.29547     accuracy: 0.5728\n",
      "Epoch 37, CIFAR-10 Batch 5:  loss: 1.31146     accuracy: 0.5564\n",
      "Epoch 38, CIFAR-10 Batch 1:  loss: 1.2799     accuracy: 0.5706\n",
      "Epoch 38, CIFAR-10 Batch 2:  loss: 1.23322     accuracy: 0.5884\n",
      "Epoch 38, CIFAR-10 Batch 3:  loss: 1.17582     accuracy: 0.5878\n",
      "Epoch 38, CIFAR-10 Batch 4:  loss: 1.26099     accuracy: 0.5842\n",
      "Epoch 38, CIFAR-10 Batch 5:  loss: 1.2566     accuracy: 0.5852\n",
      "Epoch 39, CIFAR-10 Batch 1:  loss: 1.27697     accuracy: 0.5724\n",
      "Epoch 39, CIFAR-10 Batch 2:  loss: 1.29208     accuracy: 0.5852\n",
      "Epoch 39, CIFAR-10 Batch 3:  loss: 1.21005     accuracy: 0.5836\n",
      "Epoch 39, CIFAR-10 Batch 4:  loss: 1.2541     accuracy: 0.5822\n",
      "Epoch 39, CIFAR-10 Batch 5:  loss: 1.23159     accuracy: 0.5884\n",
      "Epoch 40, CIFAR-10 Batch 1:  loss: 1.27696     accuracy: 0.5876\n",
      "Epoch 40, CIFAR-10 Batch 2:  loss: 1.26881     accuracy: 0.5824\n",
      "Epoch 40, CIFAR-10 Batch 3:  loss: 1.21566     accuracy: 0.5864\n",
      "Epoch 40, CIFAR-10 Batch 4:  loss: 1.24997     accuracy: 0.5866\n",
      "Epoch 40, CIFAR-10 Batch 5:  loss: 1.22932     accuracy: 0.5964\n"
     ]
    }
   ],
   "source": [
    "\"\"\"\n",
    "DON'T MODIFY ANYTHING IN THIS CELL\n",
    "\"\"\"\n",
    "save_model_path = './image_classification'\n",
    "\n",
    "print('Training...')\n",
    "with tf.Session() as sess:\n",
    "    # Initializing the variables\n",
    "    sess.run(tf.global_variables_initializer())\n",
    "    \n",
    "    # Training cycle\n",
    "    for epoch in range(epochs):\n",
    "        # Loop over all batches\n",
    "        n_batches = 5\n",
    "        for batch_i in range(1, n_batches + 1):\n",
    "            for batch_features, batch_labels in helper.load_preprocess_training_batch(batch_i, batch_size):\n",
    "                train_neural_network(sess, optimizer, keep_probability, batch_features, batch_labels)\n",
    "            print('Epoch {:>2}, CIFAR-10 Batch {}:  '.format(epoch + 1, batch_i), end='')\n",
    "            print_stats(sess, batch_features, batch_labels, cost, accuracy)\n",
    "            \n",
    "    # Save Model\n",
    "    saver = tf.train.Saver()\n",
    "    save_path = saver.save(sess, save_model_path)"
   ]
  },
  {
   "cell_type": "markdown",
   "metadata": {
    "deletable": true,
    "editable": true
   },
   "source": [
    "# Checkpoint\n",
    "The model has been saved to disk.\n",
    "## Test Model\n",
    "Test your model against the test dataset.  This will be your final accuracy. You should have an accuracy greater than 50%. If you don't, keep tweaking the model architecture and parameters."
   ]
  },
  {
   "cell_type": "code",
   "execution_count": 19,
   "metadata": {
    "collapsed": false,
    "deletable": true,
    "editable": true
   },
   "outputs": [
    {
     "name": "stdout",
     "output_type": "stream",
     "text": [
      "Testing Accuracy: 0.5923509240150452\n",
      "\n"
     ]
    },
    {
     "data": {
      "image/png": "[encoded data removed]",
      "text/plain": [
       "<matplotlib.figure.Figure at 0x7fb2b500bb00>"
      ]
     },
     "metadata": {
      "image/png": {
       "height": 319,
       "width": 355
      }
     },
     "output_type": "display_data"
    }
   ],
   "source": [
    "\"\"\"\n",
    "DON'T MODIFY ANYTHING IN THIS CELL\n",
    "\"\"\"\n",
    "%matplotlib inline\n",
    "%config InlineBackend.figure_format = 'retina'\n",
    "\n",
    "import tensorflow as tf\n",
    "import pickle\n",
    "import helper\n",
    "import random\n",
    "\n",
    "# Set batch size if not already set\n",
    "try:\n",
    "    if batch_size:\n",
    "        pass\n",
    "except NameError:\n",
    "    batch_size = 64\n",
    "\n",
    "save_model_path = './image_classification'\n",
    "n_samples = 4\n",
    "top_n_predictions = 3\n",
    "\n",
    "def test_model():\n",
    "    \"\"\"\n",
    "    Test the saved model against the test dataset\n",
    "    \"\"\"\n",
    "\n",
    "    test_features, test_labels = pickle.load(open('preprocess_test.p', mode='rb'))\n",
    "    loaded_graph = tf.Graph()\n",
    "\n",
    "    with tf.Session(graph=loaded_graph) as sess:\n",
    "        # Load model\n",
    "        loader = tf.train.import_meta_graph(save_model_path + '.meta')\n",
    "        loader.restore(sess, save_model_path)\n",
    "\n",
    "        # Get Tensors from loaded model\n",
    "        loaded_x = loaded_graph.get_tensor_by_name('x:0')\n",
    "        loaded_y = loaded_graph.get_tensor_by_name('y:0')\n",
    "        loaded_keep_prob = loaded_graph.get_tensor_by_name('keep_prob:0')\n",
    "        loaded_logits = loaded_graph.get_tensor_by_name('logits:0')\n",
    "        loaded_acc = loaded_graph.get_tensor_by_name('accuracy:0')\n",
    "        \n",
    "        # Get accuracy in batches for memory limitations\n",
    "        test_batch_acc_total = 0\n",
    "        test_batch_count = 0\n",
    "        \n",
    "        for test_feature_batch, test_label_batch in helper.batch_features_labels(test_features, test_labels, batch_size):\n",
    "            test_batch_acc_total += sess.run(\n",
    "                loaded_acc,\n",
    "                feed_dict={loaded_x: test_feature_batch, loaded_y: test_label_batch, loaded_keep_prob: 1.0})\n",
    "            test_batch_count += 1\n",
    "\n",
    "        print('Testing Accuracy: {}\\n'.format(test_batch_acc_total/test_batch_count))\n",
    "\n",
    "        # Print Random Samples\n",
    "        random_test_features, random_test_labels = tuple(zip(*random.sample(list(zip(test_features, test_labels)), n_samples)))\n",
    "        random_test_predictions = sess.run(\n",
    "            tf.nn.top_k(tf.nn.softmax(loaded_logits), top_n_predictions),\n",
    "            feed_dict={loaded_x: random_test_features, loaded_y: random_test_labels, loaded_keep_prob: 1.0})\n",
    "        helper.display_image_predictions(random_test_features, random_test_labels, random_test_predictions)\n",
    "\n",
    "\n",
    "test_model()"
   ]
  },
  {
   "cell_type": "markdown",
   "metadata": {
    "deletable": true,
    "editable": true
   },
   "source": [
    "## Why 50-80% Accuracy?\n",
    "You might be wondering why you can't get an accuracy any higher. First things first, 50% isn't bad for a simple CNN.  Pure guessing would get you 10% accuracy. However, you might notice people are getting scores [well above 80%](http://rodrigob.github.io/are_we_there_yet/build/classification_datasets_results.html#43494641522d3130).  That's because we haven't taught you all there is to know about neural networks. We still need to cover a few more techniques.\n",
    "## Submitting This Project\n",
    "When submitting this project, make sure to run all the cells before saving the notebook.  Save the notebook file as \"dlnd_image_classification.ipynb\" and save it as a HTML file under \"File\" -> \"Download as\".  Include the \"helper.py\" and \"problem_unittests.py\" files in your submission."
   ]
  },
  {
   "cell_type": "code",
   "execution_count": null,
   "metadata": {
    "collapsed": true
   },
   "outputs": [],
   "source": []
  }
 ],
 "metadata": {
  "kernelspec": {
   "display_name": "Python 3",
   "language": "python",
   "name": "python3"
  },
  "language_info": {
   "codemirror_mode": {
    "name": "ipython",
    "version": 3
   },
   "file_extension": ".py",
   "mimetype": "text/x-python",
   "name": "python",
   "nbconvert_exporter": "python",
   "pygments_lexer": "ipython3",
   "version": "3.5.2"
  },
  "widgets": {
   "state": {},
   "version": "1.1.2"
  }
 },
 "nbformat": 4,
 "nbformat_minor": 1
}
